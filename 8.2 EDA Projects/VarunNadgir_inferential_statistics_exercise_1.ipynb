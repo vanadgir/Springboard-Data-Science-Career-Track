{
 "cells": [
  {
   "cell_type": "markdown",
   "metadata": {},
   "source": [
    "# What is the True Normal Human Body Temperature? \n",
    "\n",
    "#### Background\n",
    "\n",
    "The mean normal body temperature was held to be 37$^{\\circ}$C or 98.6$^{\\circ}$F for more than 120 years since it was first conceptualized and reported by Carl Wunderlich in a famous 1868 book. But, is this value statistically correct?"
   ]
  },
  {
   "cell_type": "markdown",
   "metadata": {},
   "source": [
    "<h3>Exercises</h3>\n",
    "\n",
    "<p>In this exercise, you will analyze a dataset of human body temperatures and employ the concepts of hypothesis testing, confidence intervals, and statistical significance.</p>\n",
    "\n",
    "<p>Answer the following questions <b>in this notebook below and submit to your Github account</b>.</p> \n",
    "\n",
    "<ol>\n",
    "<li>  Is the distribution of body temperatures normal? \n",
    "    <ul>\n",
    "    <li> Although this is not a requirement for the Central Limit Theorem to hold (read the introduction on Wikipedia's page about the CLT carefully: https://en.wikipedia.org/wiki/Central_limit_theorem), it gives us some peace of mind that the population may also be normally distributed if we assume that this sample is representative of the population.\n",
    "    <li> Think about the way you're going to check for the normality of the distribution. Graphical methods are usually used first, but there are also other ways: https://en.wikipedia.org/wiki/Normality_test\n",
    "    </ul>\n",
    "<li>  Is the sample size large? Are the observations independent?\n",
    "    <ul>\n",
    "    <li> Remember that this is a condition for the Central Limit Theorem, and hence the statistical tests we are using, to apply.\n",
    "    </ul>\n",
    "<li>  Is the true population mean really 98.6 degrees F?\n",
    "    <ul>\n",
    "    <li> First, try a bootstrap hypothesis test.\n",
    "    <li> Now, let's try frequentist statistical testing. Would you use a one-sample or two-sample test? Why?\n",
    "    <li> In this situation, is it appropriate to use the $t$ or $z$ statistic? \n",
    "    <li> Now try using the other test. How is the result be different? Why?\n",
    "    </ul>\n",
    "<li>  Draw a small sample of size 10 from the data and repeat both frequentist tests. \n",
    "    <ul>\n",
    "    <li> Which one is the correct one to use? \n",
    "    <li> What do you notice? What does this tell you about the difference in application of the $t$ and $z$ statistic?\n",
    "    </ul>\n",
    "<li>  At what temperature should we consider someone's temperature to be \"abnormal\"?\n",
    "    <ul>\n",
    "    <li> As in the previous example, try calculating everything using the boostrap approach, as well as the frequentist approach.\n",
    "    <li> Start by computing the margin of error and confidence interval. When calculating the confidence interval, keep in mind that you should use the appropriate formula for one draw, and not N draws.\n",
    "    </ul>\n",
    "<li>  Is there a significant difference between males and females in normal temperature?\n",
    "    <ul>\n",
    "    <li> What testing approach did you use and why?\n",
    "    <li> Write a story with your conclusion in the context of the original problem.\n",
    "    </ul>\n",
    "</ol>\n",
    "\n",
    "You can include written notes in notebook cells using Markdown: \n",
    "   - In the control panel at the top, choose Cell > Cell Type > Markdown\n",
    "   - Markdown syntax: http://nestacms.com/docs/creating-content/markdown-cheat-sheet\n",
    "\n",
    "#### Resources\n",
    "\n",
    "+ Information and data sources: http://www.amstat.org/publications/jse/datasets/normtemp.txt, http://www.amstat.org/publications/jse/jse_data_archive.htm\n",
    "+ Markdown syntax: http://nestacms.com/docs/creating-content/markdown-cheat-sheet\n",
    "\n",
    "****"
   ]
  },
  {
   "cell_type": "code",
   "execution_count": 1,
   "metadata": {},
   "outputs": [],
   "source": [
    "# get packages\n",
    "import pandas as pd\n",
    "import numpy as np\n",
    "import matplotlib.pyplot as plt\n",
    "import matplotlib.mlab as mlab\n",
    "import scipy.stats\n",
    "import math\n",
    "\n",
    "from scipy.stats import norm\n",
    "\n",
    "# load in dataframe from csv\n",
    "df = pd.read_csv('data/human_body_temperature.csv')"
   ]
  },
  {
   "cell_type": "code",
   "execution_count": 3,
   "metadata": {
    "scrolled": true
   },
   "outputs": [
    {
     "data": {
      "text/html": [
       "<div>\n",
       "<style scoped>\n",
       "    .dataframe tbody tr th:only-of-type {\n",
       "        vertical-align: middle;\n",
       "    }\n",
       "\n",
       "    .dataframe tbody tr th {\n",
       "        vertical-align: top;\n",
       "    }\n",
       "\n",
       "    .dataframe thead th {\n",
       "        text-align: right;\n",
       "    }\n",
       "</style>\n",
       "<table border=\"1\" class=\"dataframe\">\n",
       "  <thead>\n",
       "    <tr style=\"text-align: right;\">\n",
       "      <th></th>\n",
       "      <th>temperature</th>\n",
       "      <th>gender</th>\n",
       "      <th>heart_rate</th>\n",
       "    </tr>\n",
       "  </thead>\n",
       "  <tbody>\n",
       "    <tr>\n",
       "      <th>0</th>\n",
       "      <td>99.3</td>\n",
       "      <td>F</td>\n",
       "      <td>68.0</td>\n",
       "    </tr>\n",
       "    <tr>\n",
       "      <th>1</th>\n",
       "      <td>98.4</td>\n",
       "      <td>F</td>\n",
       "      <td>81.0</td>\n",
       "    </tr>\n",
       "    <tr>\n",
       "      <th>2</th>\n",
       "      <td>97.8</td>\n",
       "      <td>M</td>\n",
       "      <td>73.0</td>\n",
       "    </tr>\n",
       "    <tr>\n",
       "      <th>3</th>\n",
       "      <td>99.2</td>\n",
       "      <td>F</td>\n",
       "      <td>66.0</td>\n",
       "    </tr>\n",
       "    <tr>\n",
       "      <th>4</th>\n",
       "      <td>98.0</td>\n",
       "      <td>F</td>\n",
       "      <td>73.0</td>\n",
       "    </tr>\n",
       "  </tbody>\n",
       "</table>\n",
       "</div>"
      ],
      "text/plain": [
       "   temperature gender  heart_rate\n",
       "0         99.3      F        68.0\n",
       "1         98.4      F        81.0\n",
       "2         97.8      M        73.0\n",
       "3         99.2      F        66.0\n",
       "4         98.0      F        73.0"
      ]
     },
     "execution_count": 3,
     "metadata": {},
     "output_type": "execute_result"
    }
   ],
   "source": [
    "# initial peek at the data\n",
    "df.head()"
   ]
  },
  {
   "cell_type": "code",
   "execution_count": 4,
   "metadata": {},
   "outputs": [
    {
     "data": {
      "text/plain": [
       "count    130.000000\n",
       "mean      98.249231\n",
       "std        0.733183\n",
       "min       96.300000\n",
       "25%       97.800000\n",
       "50%       98.300000\n",
       "75%       98.700000\n",
       "max      100.800000\n",
       "Name: temperature, dtype: float64"
      ]
     },
     "execution_count": 4,
     "metadata": {},
     "output_type": "execute_result"
    }
   ],
   "source": [
    "df.temperature.describe()"
   ]
  },
  {
   "cell_type": "markdown",
   "metadata": {},
   "source": [
    "### 1. Is the distribution of body temperatures normal?\n",
    "\n",
    "Based on the following histogram of the body temperature values, you could say that they are more or less normally distributed. They have a mean of 98.25 and the p-value of the normaltest is 0.25875, which means we can maintain the hypothesis that these data are normally distributed."
   ]
  },
  {
   "cell_type": "code",
   "execution_count": 23,
   "metadata": {},
   "outputs": [],
   "source": [
    "# prepare data for histogram\n",
    "# sort the temps\n",
    "ordered_temps = df.temperature.sort_values()\n",
    "\n",
    "# define bins\n",
    "bins = np.arange(ordered_temps.min(), ordered_temps.max(), 0.05)\n",
    "\n",
    "# get mean and stdev of temps\n",
    "mean, stdev = ordered_temps.mean(), ordered_temps.std()\n",
    "\n",
    "# draw what normal dist looks like with this mean/std\n",
    "norm_dist = norm.pdf(ordered_temps, mean, stdev)"
   ]
  },
  {
   "cell_type": "code",
   "execution_count": 31,
   "metadata": {},
   "outputs": [
    {
     "name": "stderr",
     "output_type": "stream",
     "text": [
      "C:\\Users\\FKBOX\\Anaconda3\\lib\\site-packages\\matplotlib\\axes\\_axes.py:6462: UserWarning: The 'normed' kwarg is deprecated, and has been replaced by the 'density' kwarg.\n",
      "  warnings.warn(\"The 'normed' kwarg is deprecated, and has been \"\n"
     ]
    },
    {
     "data": {
      "text/plain": [
       "[<matplotlib.lines.Line2D at 0x2c35552da20>]"
      ]
     },
     "execution_count": 31,
     "metadata": {},
     "output_type": "execute_result"
    },
    {
     "data": {
      "image/png": "[encoded data removed]",
      "text/plain": [
       "<Figure size 432x288 with 1 Axes>"
      ]
     },
     "metadata": {},
     "output_type": "display_data"
    }
   ],
   "source": [
    "# labels\n",
    "plt.title('Temperature Distribution')\n",
    "plt.xlabel('Temperature')\n",
    "# min is 96.3 and max is 100.8, create ticks accordingly \n",
    "plt.xticks(np.arange(95.5, 101.5, 0.25), rotation=90)\n",
    "\n",
    "# create histogram\n",
    "plt.hist(ordered_temps, bins, normed=True, stacked=True)\n",
    "# overlay normal distribution\n",
    "plt.plot(ordered_temps, norm_dist)"
   ]
  },
  {
   "cell_type": "code",
   "execution_count": 33,
   "metadata": {},
   "outputs": [
    {
     "name": "stdout",
     "output_type": "stream",
     "text": [
      "NormaltestResult(statistic=2.703801433319236, pvalue=0.2587479863488212)\n"
     ]
    }
   ],
   "source": [
    "# normal test gives a p-value of 0.25875\n",
    "print(scipy.stats.normaltest(ordered_temps))"
   ]
  },
  {
   "cell_type": "markdown",
   "metadata": {},
   "source": [
    "### 2. Is the sample size large? Are the observations independent?\n",
    "\n",
    "With 130 observations in this data set, we can consider this sample size relatively large ($ \\ge 30 $). The observations are independent because none of the observations influence the others - they are all recorded separately and without referencing another data point."
   ]
  },
  {
   "cell_type": "code",
   "execution_count": 34,
   "metadata": {},
   "outputs": [
    {
     "data": {
      "text/plain": [
       "130"
      ]
     },
     "execution_count": 34,
     "metadata": {},
     "output_type": "execute_result"
    }
   ],
   "source": [
    "len(df.temperature)"
   ]
  },
  {
   "cell_type": "markdown",
   "metadata": {},
   "source": [
    "### 3. Is the true population mean really 98.6 degrees F?\n",
    "\n",
    "After resampling 10000 times and recording the mean of each result, it seems like the mean actually lies closer to 98.2."
   ]
  },
  {
   "cell_type": "code",
   "execution_count": 42,
   "metadata": {},
   "outputs": [
    {
     "data": {
      "text/plain": [
       "98.24869584615384"
      ]
     },
     "execution_count": 42,
     "metadata": {},
     "output_type": "execute_result"
    }
   ],
   "source": [
    "# create empty array for storing bootstrap means\n",
    "df_means = np.empty(10000)\n",
    "# duplicate dataframe\n",
    "df_bs = df.copy()\n",
    "\n",
    "# perform 1000 resamplings, save the Temperature means in df_means\n",
    "for i in range(10000) :\n",
    "    bs_sample = np.random.choice(df['temperature'], size=130)\n",
    "    df_bs['temperature'] = bs_sample\n",
    "    df_means[i] = np.mean(df_bs['temperature'])\n",
    "    \n",
    "# print mean of all the sample means\n",
    "np.mean(df_means)"
   ]
  },
  {
   "cell_type": "markdown",
   "metadata": {},
   "source": [
    "In this case, it is best to use a one-sample test to compare these data to the proposed value of 98.6, since we just have this one collected dataset without any sort of change introduced. We can assert whether or not the population mean is truly 98.6 by checking if the sample mean is significantly different. \n",
    "\n",
    "For this study, we will use\n",
    "\n",
    "**Null Hypothesis**: Sample Mean = Population Mean (no significant difference)\n",
    "\n",
    "**Alternate Hypothesis**: Sample Mean ≠ Population Mean (significant difference)\n",
    "\n",
    "Although our sample size is fairly large, I will use *t-test* first since we do not know the population standard deviation. The formula for this is \n",
    "\n",
    "$$t = \\frac{\\bar{x}-\\mu}{\\frac{s}{\\sqrt{n}}} $$\n",
    "\n",
    "where $\\bar{x}$ is the sample mean, $\\mu$ is the population mean, $s$ is the sample standard deviation, and $n$ is the sample size. In addition, the critical t-value in a two-tailed test for a 95% confidence interval with 129 degrees of freedom is about **1.984.**"
   ]
  },
  {
   "cell_type": "code",
   "execution_count": 58,
   "metadata": {},
   "outputs": [
    {
     "name": "stdout",
     "output_type": "stream",
     "text": [
      "t-score: -5.454823292364301\n",
      "p-value: 2.4106320415585427e-07\n"
     ]
    }
   ],
   "source": [
    "# fill in formula values\n",
    "sample_mean = ordered_temps.mean()\n",
    "pop_mean = 98.6\n",
    "sample_std = ordered_temps.std()\n",
    "sample_size = len(ordered_temps)\n",
    "\n",
    "# calculate t-score\n",
    "t_score = (sample_mean - pop_mean)/(sample_std/np.sqrt(sample_size))\n",
    "\n",
    "# calculate p-value\n",
    "pvalue = scipy.stats.t.sf(np.abs(t_score), sample_size-1)*2\n",
    "\n",
    "print(\"t-score: \" + str(t_score) + \"\\np-value: \" + str(pvalue))"
   ]
  },
  {
   "cell_type": "markdown",
   "metadata": {},
   "source": [
    "Since we observe the t-score to be quite different from the critical value and the p-value being significantly small (**p<0.05**), we can reject the null hypothesis. It is unlikely that the population mean and sample mean are equal, meaning the commonly accepted 98.6 doesn't quite match the mean we observed in this dataset."
   ]
  },
  {
   "cell_type": "code",
   "execution_count": 59,
   "metadata": {},
   "outputs": [
    {
     "data": {
      "text/plain": [
       "Ttest_1sampResult(statistic=-5.454823292364077, pvalue=2.410632041561008e-07)"
      ]
     },
     "execution_count": 59,
     "metadata": {},
     "output_type": "execute_result"
    }
   ],
   "source": [
    "# confirm t-score and p-value\n",
    "scipy.stats.ttest_1samp(ordered_temps,98.6)"
   ]
  },
  {
   "cell_type": "markdown",
   "metadata": {},
   "source": [
    "The z-test is similar, but it requires that we know the population standard deviation. Since we do not have this information, the best we can do is substitute the sample standard deviation. This formula would be\n",
    "\n",
    "$$t = \\frac{\\bar{x}-\\mu}{\\sigma} $$\n",
    "\n",
    "where $\\bar{x}$ is the sample mean, $\\mu$ is the population mean, and $\\sigma$ is the population standard deviation. However, in this case, we will be using the sample standard deviation since that is the only information we have."
   ]
  },
  {
   "cell_type": "code",
   "execution_count": 65,
   "metadata": {},
   "outputs": [
    {
     "name": "stdout",
     "output_type": "stream",
     "text": [
      "z-score: -0.4784196512470882\n",
      "p-value: 0.6323515496610721\n"
     ]
    }
   ],
   "source": [
    "# calculate z-score\n",
    "z_score = (sample_mean - pop_mean)/(sample_std)\n",
    "\n",
    "# calculate p-value\n",
    "pvalue_z = scipy.stats.norm.sf(abs(z_score))*2\n",
    "\n",
    "print(\"z-score: \" + str(z_score) + \"\\np-value: \" + str(pvalue_z))"
   ]
  },
  {
   "cell_type": "markdown",
   "metadata": {},
   "source": [
    "Using the z-statistic gives us a much different answer, since we are treating the sample standard deviation as the value to go along with the asserted population mean of 98.6. This test now makes it seem like 98.6 could be a possible mean, though I would hesitate to use this result since, by convention, we should be using the t-statistic for this case."
   ]
  },
  {
   "cell_type": "markdown",
   "metadata": {},
   "source": [
    "### 4. Draw a small sample of size 10 from the data and repeat both frequentist tests. \n",
    "\n",
    "When working with a smaller sample of 10 data points, it would be better to use the t-statistic test. We will likely see a big difference in these tests since the population mean/std is taken from 130 data points, while this sample is from just 10."
   ]
  },
  {
   "cell_type": "code",
   "execution_count": 82,
   "metadata": {},
   "outputs": [
    {
     "name": "stdout",
     "output_type": "stream",
     "text": [
      "z-score: 0.06924494952260894\n",
      "t-score: 0.2189717569548334\n"
     ]
    }
   ],
   "source": [
    "# take a random sample of 10 data points\n",
    "sample = np.random.choice(ordered_temps, size=10)\n",
    "\n",
    "# assign values needed for formulas\n",
    "mu = ordered_temps.mean()\n",
    "std = ordered_temps.std()\n",
    "mean_10 = sample.mean()\n",
    "std_10 = sample.std()\n",
    "\n",
    "# calculate z- and t-scores\n",
    "z_10 = (mean_10 - mu)/(std)\n",
    "t_10 = (mean_10 - mu)/(std/np.sqrt(10))\n",
    "\n",
    "print(\"z-score: \" + str(z_10) + \"\\nt-score: \" + str(t_10))"
   ]
  },
  {
   "cell_type": "markdown",
   "metadata": {},
   "source": [
    "### 5. At what temperature should we consider someone's temperature to be \"abnormal\"?\n",
    "\n",
    "If we take a look at the percentile range, 96.7225 is at the 2.5 percentile and 99.4775 is at the 97.5 percentile. Judging by the data alone, we would identify anything lower or higher than those to be abnormal. Of course, there is some flexibility in these numbers in a medical sense, but it is still interesting to see the variability during a study."
   ]
  },
  {
   "cell_type": "code",
   "execution_count": 60,
   "metadata": {},
   "outputs": [
    {
     "data": {
      "text/plain": [
       "array([96.7225, 99.4775])"
      ]
     },
     "execution_count": 60,
     "metadata": {},
     "output_type": "execute_result"
    }
   ],
   "source": [
    "np.percentile(ordered_temps, [2.5, 97.5])"
   ]
  },
  {
   "cell_type": "markdown",
   "metadata": {},
   "source": [
    "### 6. Is there a significant difference between males and females in normal temperature?\n",
    "\n",
    "After plotting the data and checking the mean, median, and st.dev. of both males and females, it seems females are just a tad bit higher on average, with a slightly larger range as well. Overall, I would say that the data suggests that females experience slightly higher body temperatures, and even faster heart rates."
   ]
  },
  {
   "cell_type": "code",
   "execution_count": 16,
   "metadata": {},
   "outputs": [
    {
     "name": "stdout",
     "output_type": "stream",
     "text": [
      "Male Temp. Mean:  98.1046153846154 Male Temp. St. Dev.:  0.6933598841828696 Male Temp. Median:  98.1 \n",
      "Female Temp. Mean:  98.39384615384613 Female Temp. St. Dev.:  0.7377464486428966 Female Temp. Median:  98.4\n"
     ]
    }
   ],
   "source": [
    "print(\"Male Temp. Mean: \", np.mean(df_male['temperature']), \"Male Temp. St. Dev.: \", np.std(df_male['temperature']), \n",
    "      \"Male Temp. Median: \", np.median(df_male['temperature']),\n",
    "      \"\\nFemale Temp. Mean: \", np.mean(df_female['temperature']), \"Female Temp. St. Dev.: \", np.std(df_female['temperature']),\n",
    "      \"Female Temp. Median: \", np.median(df_female['temperature']))"
   ]
  },
  {
   "cell_type": "code",
   "execution_count": 13,
   "metadata": {},
   "outputs": [
    {
     "data": {
      "image/png": "[encoded data removed]",
      "text/plain": [
       "<matplotlib.figure.Figure at 0x2344566f358>"
      ]
     },
     "metadata": {},
     "output_type": "display_data"
    }
   ],
   "source": [
    "# split up data by gender\n",
    "df_male = df[df['gender']=='M']\n",
    "df_female = df[df['gender']=='F']\n",
    "\n",
    "# prepare for creating best fit lines\n",
    "temps = [96, 97, 98, 99, 100, 101]\n",
    "male_line = np.empty(6)\n",
    "female_line = np.empty(6)\n",
    "\n",
    "# find slope and intercept for male and female data\n",
    "slope_male, intercept_male = np.polyfit(df_male['temperature'], df_male['heart_rate'], 1)\n",
    "slope_female, intercept_female = np.polyfit(df_female['temperature'], df_female['heart_rate'], 1)\n",
    "\n",
    "# create y values for temps in range 96 - 101\n",
    "for i in range(6):\n",
    "    male_line[i] = (slope_male * temps[i]) + intercept_male\n",
    "    female_line[i] = (slope_female * temps[i]) + intercept_female\n",
    "\n",
    "# plot both males and females on same plot\n",
    "_ = plt.plot(df_male['temperature'], df_male['heart_rate'], color='blue', marker='.', linestyle='none')\n",
    "_ = plt.plot(df_female['temperature'], df_female['heart_rate'], color='red', marker='.', linestyle='none')\n",
    "\n",
    "# plot best fit lines\n",
    "_ = plt.plot(temps, male_line, color='blue', alpha=0.5)\n",
    "_ = plt.plot(temps, female_line, color='red', alpha=0.5)\n",
    "\n",
    "# label axes\n",
    "plt.legend(('Male', 'Female'), loc='lower right')\n",
    "_ = plt.xlabel('Temperature (F)')\n",
    "_ = plt.ylabel('Heart Rate (bpm)')"
   ]
  }
 ],
 "metadata": {
  "kernelspec": {
   "display_name": "Python 3",
   "language": "python",
   "name": "python3"
  },
  "language_info": {
   "codemirror_mode": {
    "name": "ipython",
    "version": 3
   },
   "file_extension": ".py",
   "mimetype": "text/x-python",
   "name": "python",
   "nbconvert_exporter": "python",
   "pygments_lexer": "ipython3",
   "version": "3.6.5"
  }
 },
 "nbformat": 4,
 "nbformat_minor": 1
}
