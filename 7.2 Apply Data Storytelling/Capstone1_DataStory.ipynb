{
 "cells": [
  {
   "cell_type": "markdown",
   "metadata": {},
   "source": [
    "## Data Story\n",
    "\n",
    "    League of Legends Competitive eSports\n",
    "    by Varun Nadgir"
   ]
  },
  {
   "cell_type": "markdown",
   "metadata": {},
   "source": [
    "### Introduction\n",
    "\n",
    "The dataset I am exploring for this project is the League of Legends competitive match data, made available thanks to [Oracle's Elixir](http://oracleselixir.com/match-data/). At its core, League of Legends (or \"LoL\") is a 5v5 strategy game where the goal is to destroy the opponent's most important structure (the \"Nexus\"). To do this, players engage in a drafting phase before the game where they choose characters (known as \"Champions\") to ban away from the opposing team and to pick for themselves. Depending on the types of Champions picked, one can get a sense of the type of strategy the team is going for. As the competitive scene has developed over the years, teams have hired coaches and analysts to study tendencies and figure out the optimal strategies for winning the game. For my project, I would like to put myself in the shoes of an analyst and see what I can learn for myself."
   ]
  },
  {
   "cell_type": "markdown",
   "metadata": {},
   "source": [
    "### The Dataset\n",
    "\n",
    "Riot Games, the company behind League of Legends, frequently patches their game to change existing characters, items, objectives, or to add new ones. This means the competitive landscape is always changing, and some data from 2016 may not be relevant today. Since Oracle's Elixir has separated their data by year, we will be looking at just this past 2018 Spring split match data. This dataset will include data from all major regions/leagues and some minor ones. "
   ]
  },
  {
   "cell_type": "markdown",
   "metadata": {},
   "source": [
    "### Game Time by Region\n",
    "\n",
    "To begin with, I'd like to compare each region's average game time. This will give a sense of how aggressive or passive a region's playstyle is - quicker games generally mean teams apply pressure from the get-go and end games quickly, and longer games are usually slower, more calculated games. In some cases, slower games can also mean lower quality games due to neither team understanding how to use their leads to finish a game. Based on talks between professional analysts, the Chinese region (the \"LPL\") is typically considered the most aggressive, so I would expect them to have the fastest game time as well."
   ]
  },
  {
   "cell_type": "code",
   "execution_count": 5,
   "metadata": {},
   "outputs": [
    {
     "name": "stderr",
     "output_type": "stream",
     "text": [
      "C:\\Users\\themi\\Anaconda3\\lib\\site-packages\\IPython\\core\\interactiveshell.py:2728: DtypeWarning: Columns (6) have mixed types. Specify dtype option on import or set low_memory=False.\n",
      "  interactivity=interactivity, compiler=compiler, result=result)\n"
     ]
    },
    {
     "data": {
      "image/png": "[encoded data removed]",
      "text/plain": [
       "<matplotlib.figure.Figure at 0x1f389ff78d0>"
      ]
     },
     "metadata": {},
     "output_type": "display_data"
    }
   ],
   "source": [
    "# import packages\n",
    "import pandas as pd\n",
    "import matplotlib.pyplot as plt\n",
    "import csv\n",
    "\n",
    "# read in csv\n",
    "loldf = pd.read_csv('loldata.csv')\n",
    "\n",
    "# plot the game length by the region\n",
    "group = 'league'\n",
    "var = 'gamelength'\n",
    "\n",
    "group_mean = loldf.groupby(group)[var].mean()\n",
    "\n",
    "plt.scatter(loldf[group].unique(), group_mean)\n",
    "plt.ylim(30,40)\n",
    "plt.title('Game Length by Region')\n",
    "plt.xlabel('Region')\n",
    "plt.ylabel('Avg. Game Length')\n",
    "plt.show()"
   ]
  },
  {
   "cell_type": "markdown",
   "metadata": {},
   "source": [
    " As we can see, our intuition is correct and the LPL is the fastest region with a 33 minute average game time. We can also see that the longest game times belong to NAAc and TCL, which are the North American Academy League (essentially the B-teams of the main North American organizations) and the Russian league respectively. These Leagues are slightly less developed, so it would make sense that their games go a bit longer."
   ]
  },
  {
   "cell_type": "markdown",
   "metadata": {},
   "source": [
    "### Champion Performance by Player\n",
    "\n",
    "Next, I would like to look at which players have the most success on a particular champion. Although there are lots of statistics to compare, the simplest one would be the winrate. "
   ]
  },
  {
   "cell_type": "code",
   "execution_count": 16,
   "metadata": {},
   "outputs": [
    {
     "data": {
      "text/plain": [
       "<matplotlib.axes._subplots.AxesSubplot at 0x1f38a3fcc18>"
      ]
     },
     "execution_count": 16,
     "metadata": {},
     "output_type": "execute_result"
    },
    {
     "data": {
      "image/png": "[encoded data removed]",
      "text/plain": [
       "<matplotlib.figure.Figure at 0x1f389df6320>"
      ]
     },
     "metadata": {},
     "output_type": "display_data"
    }
   ],
   "source": [
    "# -- CHAMPION PERFORMANCE ANALYSIS -- #\n",
    "# columns to use for champion performance analysis\n",
    "player_champions = ['gameid', 'league', 'patchno', 'playerid', 'side', 'position', 'player', 'team', 'champion', 'ban1', 'ban2', 'ban3', 'ban4', 'ban5', 'gamelength', 'result']\n",
    "\n",
    "pc = loldf[player_champions]\n",
    "\n",
    "LCK_players = pc[pc['league']=='LCK']\n",
    "\n",
    "# get # games and # wins to calculate winrate for a champion\n",
    "# replace LCK_players with NA or EU dataframe to get other results\n",
    "LCK_games = LCK_players.groupby(['player', 'position', 'champion'])['champion'].count()\n",
    "LCK_wins = LCK_players.groupby(['player', 'position', 'champion'])['result'].sum()\n",
    "\n",
    "# create empty DF\n",
    "LCK_performance = pd.DataFrame(columns=['wins', 'games', 'winrate'])\n",
    "\n",
    "# enter games and winrate\n",
    "LCK_performance['wins'] = LCK_wins\n",
    "LCK_performance['games'] = LCK_games\n",
    "LCK_performance['winrate'] = (LCK_wins/LCK_games)*100\n",
    "\n",
    "# reset index so that players and champions become row values again\n",
    "# remove the team entry\n",
    "LCK_performance = LCK_performance.reset_index()\n",
    "LCK_performance = LCK_performance[LCK_performance.player != 'Team']\n",
    "\n",
    "# save a dataframe for each position\n",
    "LCK_performance_top = LCK_performance[LCK_performance['position']=='Top']\n",
    "LCK_performance_jng = LCK_performance[LCK_performance['position']=='Jungle']\n",
    "LCK_performance_mid = LCK_performance[LCK_performance['position']=='Middle']\n",
    "LCK_performance_adc = LCK_performance[LCK_performance['position']=='ADC']\n",
    "LCK_performance_sup = LCK_performance[LCK_performance['position']=='Support']\n",
    "\n",
    "# sort champion alphabetically, sort winrate descending\n",
    "LCK_performance.sort_values(['champion', 'winrate'], ascending=[True, False])\n",
    "\n",
    "# plot winrates for submitted position and champion \n",
    "pos = 'ADC'\n",
    "champ = 'Ezreal'\n",
    "\n",
    "plotdata = (LCK_performance['position']==pos)&(LCK_performance['champion']==champ)\n",
    "\n",
    "LCK_performance[plotdata].sort_values('games').plot('player', 'winrate', kind='barh', title=champ+' Winrate', legend=False, grid=True)"
   ]
  },
  {
   "cell_type": "markdown",
   "metadata": {},
   "source": [
    "Not only does the plot indicate the winrate of each players' performance on the Champion \"Ezreal\", it is also sorted by the number of games played on that Champion. What this shows is that Pray is far and away the best performer on this Champion - not only does he boast an 80% winrate, he also has played the most games."
   ]
  },
  {
   "cell_type": "code",
   "execution_count": null,
   "metadata": {},
   "outputs": [],
   "source": []
  }
 ],
 "metadata": {
  "kernelspec": {
   "display_name": "Python 3",
   "language": "python",
   "name": "python3"
  },
  "language_info": {
   "codemirror_mode": {
    "name": "ipython",
    "version": 3
   },
   "file_extension": ".py",
   "mimetype": "text/x-python",
   "name": "python",
   "nbconvert_exporter": "python",
   "pygments_lexer": "ipython3",
   "version": "3.6.4"
  }
 },
 "nbformat": 4,
 "nbformat_minor": 2
}
