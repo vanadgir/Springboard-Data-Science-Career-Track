{
 "cells": [
  {
   "cell_type": "markdown",
   "metadata": {},
   "source": [
    " ## League of Legends Competitive Analysis\n",
    "    \n",
    "    by Varun Nadgir"
   ]
  },
  {
   "cell_type": "markdown",
   "metadata": {},
   "source": [
    "## Milestone Report\n",
    "\n",
    "### The Problem & Client\n",
    "\n",
    "I would like to put myself in the role of an esports analyst, so my client could be any of the North American organizations with a League of Legends team. As someone in this role, not only would I need to be familiar with trends in our local region, but when international tournaments come around, the organization will be relying on their team of analysts to help prepare the players for new competition. Identifying any sort of trends and patterns in another team or region's playstyle would be a big leg up, and that will come from intelligent study of the data."
   ]
  },
  {
   "cell_type": "markdown",
   "metadata": {},
   "source": [
    "### The Data\n",
    "\n",
    "All of the competitive League of Legends data is collected by [Oracle's Elixir](http://oracleselixir.com/match-data/), and for this study I will be looking at the Spring 2018 data. There are about 15,000 rows and almost 100 columns in this dataset - each match has 5 entries for the players of one team, 5 for the other, and then 2 for team-wide stats. After importing the .csv file, it was just a matter of preparing the dataset for each question by subsetting into smaller tables.\n",
    "\n",
    "At some point in the future, it would also be helpful to look at the data collected by Riot Games in the competitive ranked ladder. These data could shed light into how certain Champion matchups might be expected to go or if some objectives tend to lead to wins more than others, among other things. There are hundreds of thousands of games played around the world daily, meaning there is a lot of valuable data being generated constantly.\n",
    "\n",
    "### Importing Data"
   ]
  },
  {
   "cell_type": "code",
   "execution_count": 2,
   "metadata": {},
   "outputs": [
    {
     "name": "stderr",
     "output_type": "stream",
     "text": [
      "C:\\Users\\FKBOX\\Anaconda3\\lib\\site-packages\\IPython\\core\\interactiveshell.py:2785: DtypeWarning: Columns (6) have mixed types. Specify dtype option on import or set low_memory=False.\n",
      "  interactivity=interactivity, compiler=compiler, result=result)\n"
     ]
    }
   ],
   "source": [
    "# import packages\n",
    "import pandas as pd\n",
    "import csv\n",
    "\n",
    "# read in csv\n",
    "loldf = pd.read_csv('loldata.csv')"
   ]
  },
  {
   "cell_type": "markdown",
   "metadata": {},
   "source": [
    "### Data Wrangling\n",
    "\n",
    "##### Champion Head to Head Performance"
   ]
  },
  {
   "cell_type": "code",
   "execution_count": 7,
   "metadata": {
    "scrolled": true
   },
   "outputs": [
    {
     "data": {
      "text/html": [
       "<div>\n",
       "<style scoped>\n",
       "    .dataframe tbody tr th:only-of-type {\n",
       "        vertical-align: middle;\n",
       "    }\n",
       "\n",
       "    .dataframe tbody tr th {\n",
       "        vertical-align: top;\n",
       "    }\n",
       "\n",
       "    .dataframe thead th {\n",
       "        text-align: right;\n",
       "    }\n",
       "</style>\n",
       "<table border=\"1\" class=\"dataframe\">\n",
       "  <thead>\n",
       "    <tr style=\"text-align: right;\">\n",
       "      <th></th>\n",
       "      <th>Ornn</th>\n",
       "      <th>Gnar</th>\n",
       "      <th>Gangplank</th>\n",
       "      <th>Vladimir</th>\n",
       "      <th>Illaoi</th>\n",
       "      <th>Lucian</th>\n",
       "      <th>Camille</th>\n",
       "      <th>Jayce</th>\n",
       "      <th>Ryze</th>\n",
       "      <th>Cho'gath</th>\n",
       "      <th>...</th>\n",
       "      <th>Malphite</th>\n",
       "      <th>Yasuo</th>\n",
       "      <th>Kassadin</th>\n",
       "      <th>Kennen</th>\n",
       "      <th>Swain</th>\n",
       "      <th>Aatrox</th>\n",
       "      <th>Renekton</th>\n",
       "      <th>Darius</th>\n",
       "      <th>Cassiopeia</th>\n",
       "      <th>Singed</th>\n",
       "    </tr>\n",
       "  </thead>\n",
       "  <tbody>\n",
       "    <tr>\n",
       "      <th>Ornn</th>\n",
       "      <td>0</td>\n",
       "      <td>31</td>\n",
       "      <td>19</td>\n",
       "      <td>9</td>\n",
       "      <td>4</td>\n",
       "      <td>0</td>\n",
       "      <td>10</td>\n",
       "      <td>0</td>\n",
       "      <td>1</td>\n",
       "      <td>9</td>\n",
       "      <td>...</td>\n",
       "      <td>0</td>\n",
       "      <td>0</td>\n",
       "      <td>0</td>\n",
       "      <td>0</td>\n",
       "      <td>1</td>\n",
       "      <td>0</td>\n",
       "      <td>1</td>\n",
       "      <td>0</td>\n",
       "      <td>1</td>\n",
       "      <td>0</td>\n",
       "    </tr>\n",
       "  </tbody>\n",
       "</table>\n",
       "<p>1 rows × 33 columns</p>\n",
       "</div>"
      ],
      "text/plain": [
       "      Ornn  Gnar  Gangplank  Vladimir  Illaoi  Lucian  Camille  Jayce  Ryze  \\\n",
       "Ornn     0    31         19         9       4       0       10      0     1   \n",
       "\n",
       "      Cho'gath   ...    Malphite  Yasuo  Kassadin  Kennen  Swain  Aatrox  \\\n",
       "Ornn         9   ...           0      0         0       0      1       0   \n",
       "\n",
       "      Renekton  Darius  Cassiopeia  Singed  \n",
       "Ornn         1       0           1       0  \n",
       "\n",
       "[1 rows x 33 columns]"
      ]
     },
     "execution_count": 7,
     "metadata": {},
     "output_type": "execute_result"
    }
   ],
   "source": [
    "# filter out specific columns needed\n",
    "df = loldf[['gameid', 'league', 'position', 'team', 'champion', 'result']]\n",
    "\n",
    "# subset data for the 5 major regions\n",
    "major_regions = df[df['league'].isin(['NALCS', 'EULCS', 'LCK', 'LPL', 'LMS'])]\n",
    "\n",
    "# subset data to just Top lane \n",
    "major_regions_top = major_regions[major_regions['position']=='Top']\n",
    "\n",
    "# get list of unique game IDs\n",
    "major_regions_gamelist = major_regions['gameid'].unique()\n",
    "\n",
    "# create groupby object based on 'gameid', each item contains winner and loser of the game\n",
    "major_group = major_regions_top.groupby('gameid')[['champion', 'result']]\n",
    "\n",
    "# create a square matrix of 0's with rows/columns equal to number of unique champions picked\n",
    "major_matrix = pd.DataFrame(0, index=major_regions_top['champion'].unique(), \n",
    "                            columns=major_regions_top['champion'].unique())\n",
    "\n",
    "# loop through each unique gameid and add a 1 to each cell location where the ROW defeats the COLUMN\n",
    "for i in range(len(major_regions_gamelist)):\n",
    "    major_group_champs = major_group.get_group(major_regions_gamelist[i]).sort_values('result', ascending=False)['champion']\n",
    "    win_champ = major_group_champs.iloc[0]\n",
    "    lose_champ = major_group_champs.iloc[1]\n",
    "    major_matrix[lose_champ].loc[win_champ] += 1\n",
    "    \n",
    "# example of what one row looks like\n",
    "major_matrix.iloc[[0]]"
   ]
  },
  {
   "cell_type": "markdown",
   "metadata": {},
   "source": [
    "##### Inferential Statistics "
   ]
  },
  {
   "cell_type": "code",
   "execution_count": 8,
   "metadata": {},
   "outputs": [],
   "source": [
    "# get data for just team-wide statistics\n",
    "teams = loldf[loldf['player']=='Team']\n",
    "# subset specific columns having to do with in-game performance\n",
    "teams = teams[['gameid', 'league', 'team', 'result', 'ft', 'firstmidouter', 'firsttothreetowers', 'fbaron', 'totalgold', 'goldspent', 'goldat10', 'gdat10', 'goldat15', 'gdat15', 'xpat10', 'xpdat10']]\n",
    "\n",
    "# split up data into winning team data and losing team data\n",
    "win_teams = teams[teams['result']==1]\n",
    "lose_teams = teams[teams['result']==0]"
   ]
  },
  {
   "cell_type": "markdown",
   "metadata": {},
   "source": [
    "### Initial Findings\n",
    "\n",
    "Just from taking a peek at the final matrix, it looks like Champions such as Ornn, Gnar, Gangplank, Vladimir, and Camille saw a lot of play. At the time, these Champions were very strong and were able to be picked regardless of the opponent due to how reliable and useful they were to their teams. Other Champions in this matrix with fewer games could be seen as 'counterpicks', or response picks specifically chosen to answer another Champion. \n",
    "\n",
    "In comparing the winning teams to losing teams, I also noticed that the winning teams have much higher percentages of taking the first tower, the mid-outer tower, and first to three towers. However, the next question this raises is whether teams are winning because of taking these towers or if teams were able to take these towers because they were already winning. In other words, at what point in the game do we say the teams are even and when do we say one comfortably has a lead?"
   ]
  }
 ],
 "metadata": {
  "kernelspec": {
   "display_name": "Python 3",
   "language": "python",
   "name": "python3"
  },
  "language_info": {
   "codemirror_mode": {
    "name": "ipython",
    "version": 3
   },
   "file_extension": ".py",
   "mimetype": "text/x-python",
   "name": "python",
   "nbconvert_exporter": "python",
   "pygments_lexer": "ipython3",
   "version": "3.6.5"
  }
 },
 "nbformat": 4,
 "nbformat_minor": 2
}
