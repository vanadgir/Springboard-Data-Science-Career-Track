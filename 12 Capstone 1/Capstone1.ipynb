{
 "cells": [
  {
   "cell_type": "markdown",
   "metadata": {},
   "source": [
    "## League of Legends Competitive Analysis\n",
    "    \n",
    "    by Varun Nadgir"
   ]
  },
  {
   "cell_type": "markdown",
   "metadata": {},
   "source": [
    "### The Goal\n",
    "\n",
    "Using the competitive League of Legends match data provided by [Oracle's Elixir](http://oracleselixir.com/match-data/), I will be looking for trends in 'Champion' performance and regional playstyles, among other interesting findings I might come across. The idea is to put myself in the shoes of a professional gaming organization's analyst and try to find ways to give \"our\" team the edge against an opposing team. This would be particularly useful in international tournaments, when teams that never meet during the regular season challenge each other for the first time."
   ]
  },
  {
   "cell_type": "markdown",
   "metadata": {},
   "source": [
    "### The Data\n",
    "\n",
    "The dataset consists of about 15,000 rows and almost 100 columns. Each game contains 12 rows - 5 for the players on one team, 5 for the other, and 2 for overall team averages. The first few columns are shared values, such as 'gameid', 'league', 'split', 'date' and other meta information regarding the game that was played, while the rest of the columns are in-game values, such as the 'Champion' picked and other performance factors. These data are taken from the 2018 Spring Split from each of the global regions - although we are in the middle of the 2018 Summer Split, I wanted to use a complete dataset.\n",
    "\n",
    "### Goals\n",
    "\n",
    "One of the first questions I was interested in exploring was \"How do these Champions fare against each other?\" This meant the most important variables for this question were the 'champion' and 'result' columns, so I began by shrinking the original dataset down to just containing the information about the region the game was played in, which of the five positions the Champion was played in, and whether or not they won that specific matchup. During this time, I realized that, unfortunately, not all of the 'gameid' values were unique, since some were duplicated across leagues. For now, I chose to separate the champion matchups by region, but one of the next steps will be to combine them. This would help teams when preparing for new competition - after scouting out the Champions they like to play, one could think of potential counters.\n",
    "\n",
    "My second question *would* require some in-game values - \"Does having a lead at the 10-15 minute mark lead to wins?\" The concept of \"snowballing\" a lead is a common one in League of Legends, yet some teams still find ways to come back through defensive play or by exploiting a single mistake of the enemy team. This question can also be explored through multiple avenues, such as first blood rate, gold lead, and/or turret/objective lead. In this case, it would be good to split up the dataset by region, since it is commonly accepted that the Korean league is of the highest quality, while the North American league is of lower quality. It would be interesting to see if leads *do* become wins in Korea but that they have no correlation in North America."
   ]
  },
  {
   "cell_type": "markdown",
   "metadata": {},
   "source": [
    "### Importing Data"
   ]
  },
  {
   "cell_type": "code",
   "execution_count": 4,
   "metadata": {},
   "outputs": [
    {
     "name": "stderr",
     "output_type": "stream",
     "text": [
      "C:\\Users\\FKBOX\\Anaconda3\\lib\\site-packages\\IPython\\core\\interactiveshell.py:2785: DtypeWarning: Columns (6) have mixed types. Specify dtype option on import or set low_memory=False.\n",
      "  interactivity=interactivity, compiler=compiler, result=result)\n"
     ]
    }
   ],
   "source": [
    "# import packages\n",
    "import pandas as pd\n",
    "import matplotlib.pyplot as plt\n",
    "import numpy as np\n",
    "import csv\n",
    "\n",
    "# remove assignment warning for later step\n",
    "pd.options.mode.chained_assignment = None  # default='warn'\n",
    "\n",
    "# read in csv\n",
    "loldf = pd.read_csv('loldata.csv')"
   ]
  },
  {
   "cell_type": "markdown",
   "metadata": {},
   "source": [
    "### Champion Head-to-Head Performance\n",
    "\n",
    "### LCK \n",
    "\n",
    "To begin, I subsetted the data to only include the Korean league data. This keeps the data small and allows me to test the quality of the code before expanding.\n",
    "\n",
    "\n"
   ]
  },
  {
   "cell_type": "code",
   "execution_count": 5,
   "metadata": {
    "scrolled": true
   },
   "outputs": [],
   "source": [
    "# filter out specific columns needed\n",
    "df = loldf[['gameid', 'league', 'position', 'team', 'champion', 'result']]\n",
    "# list of unique gameid in the entire dataset\n",
    "gamelist = df['gameid'].unique()\n",
    "\n",
    "# subset data to just the LCK league (Korean)\n",
    "lck = df[df['league']=='LCK']\n",
    "# list of unique gameid from just the LCK\n",
    "lck_gamelist = lck['gameid'].unique()\n",
    "\n",
    "# subset the dataset to be separated by player position\n",
    "top = df[df['position']=='Top']\n",
    "jungle = df[df['position']=='Jungle']\n",
    "middle = df[df['position']=='Middle']\n",
    "ADC = df[df['position']=='ADC']\n",
    "support = df[df['position']=='Support']\n",
    "\n",
    "# subset the dataset to only include LCK Top champions\n",
    "lck_top = lck[lck['position']=='Top']"
   ]
  },
  {
   "cell_type": "code",
   "execution_count": 7,
   "metadata": {
    "scrolled": true
   },
   "outputs": [],
   "source": [
    "# create groupby object based on 'gameid', each item contains winner and loser of the game\n",
    "lck_group = lck_top.groupby('gameid')[['champion', 'result']]\n",
    "\n",
    "# create a square matrix of 0's with rows/columns equal to number of unique champions picked\n",
    "matrix = pd.DataFrame(0, index=lck_top['champion'].unique(), columns=lck_top['champion'].unique())\n",
    "\n",
    "# loop through each unique gameid and add a 1 to each cell location where the ROW defeats the COLUMN\n",
    "for i in range(len(lck_gamelist)):\n",
    "    group_champs = lck_group.get_group(lck_gamelist[i]).sort_values('result', ascending=False)['champion']\n",
    "    win_champ = group_champs.iloc[0]\n",
    "    lose_champ = group_champs.iloc[1]\n",
    "    matrix[lose_champ].loc[win_champ] += 1"
   ]
  },
  {
   "cell_type": "code",
   "execution_count": 8,
   "metadata": {},
   "outputs": [
    {
     "data": {
      "image/png": "[encoded data removed]",
      "text/plain": [
       "<Figure size 432x288 with 1 Axes>"
      ]
     },
     "metadata": {},
     "output_type": "display_data"
    }
   ],
   "source": [
    "# make list of all unique champions picked\n",
    "lcktop_champs = lck_top['champion'].unique()\n",
    "\n",
    "# create empty lists for later\n",
    "opponents = []\n",
    "wins = []\n",
    "losses = []\n",
    "\n",
    "# store name of champion (select from 0 - 25)\n",
    "champ = lcktop_champs[0]\n",
    "# for each opponent in list of unique champs, add num wins and num losses to respective lists, record name of opponent\n",
    "# skip those opponents with 0 wins and 0 losses (meaning they never met in-game)\n",
    "for opp_champ in sorted(lcktop_champs, reverse=True):\n",
    "    winSide = matrix.at[champ, opp_champ]\n",
    "    lossSide = matrix.at[opp_champ, champ]\n",
    "    if ((winSide+lossSide) > 0):\n",
    "        wins.append(matrix.at[champ, opp_champ])\n",
    "        losses.append(matrix.at[opp_champ, champ])\n",
    "        opponents.append(opp_champ)\n",
    "\n",
    "# create dataframe of wins/losses to be plotted\n",
    "data = {'greenBars': wins, 'redBars': losses}\n",
    "winrate_df = pd.DataFrame(data)\n",
    "\n",
    "# calculate percentages of wins and losses vs each champion\n",
    "totals = [x+y for x,y in zip(winrate_df['greenBars'], winrate_df['redBars'])]\n",
    "greenBars = [x/y*100 for x,y in zip(winrate_df['greenBars'], totals)]\n",
    "redBars = [x/y*100 for x,y in zip(winrate_df['redBars'], totals)]\n",
    "\n",
    "# create horizontal bar plot to show performance vs everyone else\n",
    "plt.barh(opponents, greenBars, edgecolor='white', color='#00ff00')\n",
    "plt.barh(opponents, redBars, edgecolor='white', color='#ff0000', left=greenBars)\n",
    "\n",
    "# label axes and show plot\n",
    "plt.title(champ +\" Performance (LCK)\")\n",
    "plt.xlabel('Win/Loss Percentage')\n",
    "plt.ylabel('Opponent Champion')\n",
    "\n",
    "plt.show()"
   ]
  },
  {
   "cell_type": "markdown",
   "metadata": {},
   "source": [
    "### All Major Regions\n",
    "\n",
    "After completing the code for just LCK, it became possible to expand to all 5 major regions (North America, Europe, Southeast Asia, China, and Korea)."
   ]
  },
  {
   "cell_type": "code",
   "execution_count": 9,
   "metadata": {},
   "outputs": [],
   "source": [
    "# apply same logic for all regions\n",
    "major_regions = df[df['league'].isin(['NALCS', 'EULCS', 'LCK', 'LPL', 'LMS'])]\n",
    "major_regions_top = major_regions[major_regions['position']=='Top']\n",
    "major_regions_gamelist = major_regions['gameid'].unique()"
   ]
  },
  {
   "cell_type": "code",
   "execution_count": 10,
   "metadata": {},
   "outputs": [],
   "source": [
    "# create groupby object based on 'gameid', each item contains winner and loser of the game\n",
    "major_group = major_regions_top.groupby('gameid')[['champion', 'result']]\n",
    "\n",
    "# create a square matrix of 0's with rows/columns equal to number of unique champions picked\n",
    "major_matrix = pd.DataFrame(0, index=major_regions_top['champion'].unique(), columns=major_regions_top['champion'].unique())\n",
    "\n",
    "# loop through each unique gameid and add a 1 to each cell location where the ROW defeats the COLUMN\n",
    "for i in range(len(major_regions_gamelist)):\n",
    "    major_group_champs = major_group.get_group(major_regions_gamelist[i]).sort_values('result', ascending=False)['champion']\n",
    "    win_champ = major_group_champs.iloc[0]\n",
    "    lose_champ = major_group_champs.iloc[1]\n",
    "    major_matrix[lose_champ].loc[win_champ] += 1"
   ]
  },
  {
   "cell_type": "code",
   "execution_count": 11,
   "metadata": {},
   "outputs": [
    {
     "data": {
      "image/png": "[encoded data removed]",
      "text/plain": [
       "<Figure size 432x288 with 1 Axes>"
      ]
     },
     "metadata": {},
     "output_type": "display_data"
    }
   ],
   "source": [
    "# make list of all unique champions picked\n",
    "major_region_champs = major_regions_top['champion'].unique()\n",
    "\n",
    "# create empty lists for later\n",
    "opponents = []\n",
    "wins = []\n",
    "losses = []\n",
    "\n",
    "# store name of champion (select from 0 - 32)\n",
    "champ = major_region_champs[0]\n",
    "# for each opponent in list of unique champs, add num wins and num losses to respective lists, record name of opponent\n",
    "# skip those opponents with 0 wins and 0 losses (meaning they never met in-game)\n",
    "for opp_champ in sorted(major_region_champs, reverse=True):\n",
    "    winSide = major_matrix.at[champ, opp_champ]\n",
    "    lossSide = major_matrix.at[opp_champ, champ]\n",
    "    if ((winSide+lossSide) > 0):\n",
    "        wins.append(major_matrix.at[champ, opp_champ])\n",
    "        losses.append(major_matrix.at[opp_champ, champ])\n",
    "        opponents.append(opp_champ)\n",
    "\n",
    "# create dataframe of wins/losses to be plotted\n",
    "data = {'greenBars': wins, 'redBars': losses}\n",
    "winrate_df = pd.DataFrame(data)\n",
    "\n",
    "# calculate percentages of wins and losses vs each champion\n",
    "totals = [x+y for x,y in zip(winrate_df['greenBars'], winrate_df['redBars'])]\n",
    "greenBars = [x/y*100 for x,y in zip(winrate_df['greenBars'], totals)]\n",
    "redBars = [x/y*100 for x,y in zip(winrate_df['redBars'], totals)]\n",
    "\n",
    "# create horizontal bar plot to show performance vs everyone else\n",
    "plt.barh(opponents, greenBars, edgecolor='white', color='#00ff00')\n",
    "plt.barh(opponents, redBars, edgecolor='white', color='#ff0000', left=greenBars)\n",
    "\n",
    "# label axes and show plot\n",
    "plt.title(champ +\" Performance (Major Regions)\")\n",
    "plt.xlabel('Win/Loss Percentage')\n",
    "plt.ylabel('Opponent Champion')\n",
    "\n",
    "plt.show()"
   ]
  },
  {
   "cell_type": "markdown",
   "metadata": {},
   "source": [
    "### Hypothesis Testing\n",
    "\n"
   ]
  },
  {
   "cell_type": "code",
   "execution_count": null,
   "metadata": {},
   "outputs": [],
   "source": []
  },
  {
   "cell_type": "code",
   "execution_count": null,
   "metadata": {},
   "outputs": [],
   "source": []
  },
  {
   "cell_type": "code",
   "execution_count": null,
   "metadata": {},
   "outputs": [],
   "source": []
  },
  {
   "cell_type": "code",
   "execution_count": null,
   "metadata": {},
   "outputs": [],
   "source": []
  }
 ],
 "metadata": {
  "kernelspec": {
   "display_name": "Python 3",
   "language": "python",
   "name": "python3"
  },
  "language_info": {
   "codemirror_mode": {
    "name": "ipython",
    "version": 3
   },
   "file_extension": ".py",
   "mimetype": "text/x-python",
   "name": "python",
   "nbconvert_exporter": "python",
   "pygments_lexer": "ipython3",
   "version": "3.6.5"
  }
 },
 "nbformat": 4,
 "nbformat_minor": 2
}
